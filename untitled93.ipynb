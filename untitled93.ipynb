{
  "nbformat": 4,
  "nbformat_minor": 0,
  "metadata": {
    "colab": {
      "provenance": [],
      "gpuType": "T4",
      "mount_file_id": "1fag7k32iSSAxG544vLk-0VjpkmrmxYJ9",
      "authorship_tag": "ABX9TyMy11C164U/+d0sWrM5ACSy",
      "include_colab_link": true
    },
    "kernelspec": {
      "name": "python3",
      "display_name": "Python 3"
    },
    "language_info": {
      "name": "python"
    },
    "accelerator": "GPU"
  },
  "cells": [
    {
      "cell_type": "markdown",
      "metadata": {
        "id": "view-in-github",
        "colab_type": "text"
      },
      "source": [
        "<a href=\"https://colab.research.google.com/github/AnitaTasnim/Industrial-Defect-Detection/blob/main/untitled93.ipynb\" target=\"_parent\"><img src=\"https://colab.research.google.com/assets/colab-badge.svg\" alt=\"Open In Colab\"/></a>"
      ]
    },
    {
      "cell_type": "code",
      "source": [
        "# ==========================\n",
        "# STEP 0: Mount Google Drive (optional)\n",
        "# ==========================\n",
        "# from google.colab import drive\n",
        "# drive.mount('/content/drive')\n",
        "\n",
        "# ==========================\n",
        "# STEP 1: Install YOLOv8\n",
        "# ==========================\n",
        "!pip install ultralytics -q\n",
        "from ultralytics import YOLO\n",
        "import os\n",
        "import zipfile\n",
        "import xml.etree.ElementTree as ET\n",
        "from glob import glob\n",
        "import cv2\n",
        "\n",
        "# ==========================\n",
        "# STEP 2: Extract Dataset\n",
        "# ==========================\n",
        "zip_path = \"/content/NEU-DET.zip\"  # change if uploaded to another location\n",
        "extract_path = \"/content/NEU-DET\"\n",
        "\n",
        "with zipfile.ZipFile(zip_path, 'r') as zip_ref:\n",
        "    zip_ref.extractall(extract_path)\n",
        "\n",
        "# Check extracted folders\n",
        "!ls /content/NEU-DET\n",
        "\n",
        "# ==========================\n",
        "# STEP 3: Convert XML to YOLO txt\n",
        "# ==========================\n",
        "classes = [\"crazing\", \"inclusion\", \"patches\", \"pitted_surface\", \"rolled-in-scale\", \"scratches\"]\n",
        "\n",
        "def convert_xml_to_yolo(xml_file, img_file, save_path):\n",
        "    tree = ET.parse(xml_file)\n",
        "    root = tree.getroot()\n",
        "    w = int(root.find('size/width').text)\n",
        "    h = int(root.find('size/height').text)\n",
        "    yolo_lines = []\n",
        "    for obj in root.findall('object'):\n",
        "        cls_name = obj.find('name').text\n",
        "        if cls_name not in classes:\n",
        "            continue\n",
        "        cls_id = classes.index(cls_name)\n",
        "        bbox = obj.find('bndbox')\n",
        "        xmin = int(bbox.find('xmin').text)\n",
        "        ymin = int(bbox.find('ymin').text)\n",
        "        xmax = int(bbox.find('xmax').text)\n",
        "        ymax = int(bbox.find('ymax').text)\n",
        "        x_center = ((xmin + xmax) / 2) / w\n",
        "        y_center = ((ymin + ymax) / 2) / h\n",
        "        bw = (xmax - xmin) / w\n",
        "        bh = (ymax - ymin) / h\n",
        "        yolo_lines.append(f\"{cls_id} {x_center} {y_center} {bw} {bh}\")\n",
        "    txt_file = os.path.join(save_path, os.path.basename(xml_file).replace('.xml','.txt'))\n",
        "    with open(txt_file, 'w') as f:\n",
        "        f.write('\\n'.join(yolo_lines))\n",
        "\n",
        "# Convert all train and validation annotations\n",
        "for split in ['train', 'validation']:\n",
        "    img_folder = os.path.join(extract_path, 'NEU-DET', split, 'images')\n",
        "    ann_folder = os.path.join(extract_path, 'NEU-DET', split, 'annotations')\n",
        "    for xml_file in glob(os.path.join(ann_folder, \"*.xml\")):\n",
        "        img_file = os.path.join(img_folder, os.path.basename(xml_file).replace('.xml','.jpg'))\n",
        "        convert_xml_to_yolo(xml_file, img_file, ann_folder)\n",
        "\n",
        "# ==========================\n",
        "# STEP 4: Create data.yaml\n",
        "# ==========================\n",
        "train_images = os.path.join(extract_path, 'NEU-DET/train/images')\n",
        "val_images   = os.path.join(extract_path, 'NEU-DET/validation/images')\n",
        "\n",
        "data_yaml = f\"\"\"\n",
        "train: {train_images}\n",
        "val: {val_images}\n",
        "\n",
        "nc: 6\n",
        "names: {classes}\n",
        "\"\"\"\n",
        "with open(\"/content/data.yaml\", \"w\") as f:\n",
        "    f.write(data_yaml)\n",
        "\n",
        "print(open(\"/content/data.yaml\").read())\n",
        "\n",
        "# ==========================\n",
        "# STEP 5: Train YOLOv8\n",
        "# ==========================\n",
        "model = YOLO(\"yolov8n.pt\")  # nano model for speed; can use yolov8s/m/l for better accuracy\n",
        "\n",
        "model.train(\n",
        "    data=\"/content/data.yaml\",\n",
        "    epochs=50,\n",
        "    imgsz=640,\n",
        "    batch=16,\n",
        "    name=\"neu_defect_yolo\"\n",
        ")\n",
        "\n",
        "# ==========================\n",
        "# STEP 6: Evaluate & Predict\n",
        "# ==========================\n",
        "metrics = model.val()\n",
        "print(metrics)\n",
        "\n",
        "results = model.predict(source=val_images, save=True, conf=0.25)\n"
      ],
      "metadata": {
        "colab": {
          "base_uri": "https://localhost:8080/",
          "height": 430
        },
        "id": "xUs174kEXWhW",
        "outputId": "5d613be0-e376-419f-f470-59033df25ea0"
      },
      "execution_count": 1,
      "outputs": [
        {
          "output_type": "stream",
          "name": "stdout",
          "text": [
            "\u001b[31mERROR: Operation cancelled by user\u001b[0m\u001b[31m\n",
            "\u001b[0m"
          ]
        },
        {
          "output_type": "error",
          "ename": "ModuleNotFoundError",
          "evalue": "No module named 'ultralytics'",
          "traceback": [
            "\u001b[0;31m---------------------------------------------------------------------------\u001b[0m",
            "\u001b[0;31mModuleNotFoundError\u001b[0m                       Traceback (most recent call last)",
            "\u001b[0;32m/tmp/ipython-input-4149903435.py\u001b[0m in \u001b[0;36m<cell line: 0>\u001b[0;34m()\u001b[0m\n\u001b[1;32m      9\u001b[0m \u001b[0;31m# ==========================\u001b[0m\u001b[0;34m\u001b[0m\u001b[0;34m\u001b[0m\u001b[0m\n\u001b[1;32m     10\u001b[0m \u001b[0mget_ipython\u001b[0m\u001b[0;34m(\u001b[0m\u001b[0;34m)\u001b[0m\u001b[0;34m.\u001b[0m\u001b[0msystem\u001b[0m\u001b[0;34m(\u001b[0m\u001b[0;34m'pip install ultralytics -q'\u001b[0m\u001b[0;34m)\u001b[0m\u001b[0;34m\u001b[0m\u001b[0;34m\u001b[0m\u001b[0m\n\u001b[0;32m---> 11\u001b[0;31m \u001b[0;32mfrom\u001b[0m \u001b[0multralytics\u001b[0m \u001b[0;32mimport\u001b[0m \u001b[0mYOLO\u001b[0m\u001b[0;34m\u001b[0m\u001b[0;34m\u001b[0m\u001b[0m\n\u001b[0m\u001b[1;32m     12\u001b[0m \u001b[0;32mimport\u001b[0m \u001b[0mos\u001b[0m\u001b[0;34m\u001b[0m\u001b[0;34m\u001b[0m\u001b[0m\n\u001b[1;32m     13\u001b[0m \u001b[0;32mimport\u001b[0m \u001b[0mzipfile\u001b[0m\u001b[0;34m\u001b[0m\u001b[0;34m\u001b[0m\u001b[0m\n",
            "\u001b[0;31mModuleNotFoundError\u001b[0m: No module named 'ultralytics'",
            "",
            "\u001b[0;31m---------------------------------------------------------------------------\u001b[0;32m\nNOTE: If your import is failing due to a missing package, you can\nmanually install dependencies using either !pip or !apt.\n\nTo view examples of installing some common dependencies, click the\n\"Open Examples\" button below.\n\u001b[0;31m---------------------------------------------------------------------------\u001b[0m\n"
          ],
          "errorDetails": {
            "actions": [
              {
                "action": "open_url",
                "actionText": "Open Examples",
                "url": "/notebooks/snippets/importing_libraries.ipynb"
              }
            ]
          }
        }
      ]
    },
    {
      "cell_type": "markdown",
      "source": [],
      "metadata": {
        "id": "avtpTdJ8XXnS"
      }
    },
    {
      "cell_type": "markdown",
      "source": [],
      "metadata": {
        "id": "O5h4J5pyXXpD"
      }
    }
  ]
}